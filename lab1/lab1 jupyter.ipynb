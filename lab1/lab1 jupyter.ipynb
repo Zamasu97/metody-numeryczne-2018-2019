{
 "cells": [
  {
   "cell_type": "code",
   "execution_count": 22,
   "metadata": {},
   "outputs": [],
   "source": [
    "x=[56]\n",
    "y=[]\n",
    "for i in range(100-56):\n",
    "    x.append(x[i]+1)\n",
    "for j in range(len(x)):\n",
    "    y.append(2*x[j]**2 + 2* x[j] + 2)"
   ]
  },
  {
   "cell_type": "code",
   "execution_count": 31,
   "metadata": {},
   "outputs": [
    {
     "name": "stdout",
     "output_type": "stream",
     "text": [
      "Insert your value here:\n",
      "8\n",
      "The factorial of the inserted value is 40320\n"
     ]
    }
   ],
   "source": [
    "print('Insert your value here:')\n",
    "n = int(input())\n",
    "silnia=1\n",
    "for i in range(1,n+1):\n",
    "    silnia=i*silnia\n",
    "print('The factorial of the inserted value is', silnia)"
   ]
  },
  {
   "cell_type": "code",
   "execution_count": 49,
   "metadata": {},
   "outputs": [],
   "source": [
    "def z3(x):\n",
    "    xmin=x[0]\n",
    "    index=0\n",
    "    for i in range (1,len(x)):\n",
    "        if (x[i]<xmin):\n",
    "            xmin=x[i]\n",
    "            index=i\n",
    "    print('The lowest value in the provided array is', xmin, 'located on the', index, 'index')"
   ]
  },
  {
   "cell_type": "code",
   "execution_count": 51,
   "metadata": {},
   "outputs": [
    {
     "name": "stdout",
     "output_type": "stream",
     "text": [
      "The lowest value in the provided array is -10 located on the 1 index\n"
     ]
    }
   ],
   "source": [
    "z3([0, -10, 54, 6])"
   ]
  },
  {
   "cell_type": "code",
   "execution_count": 76,
   "metadata": {},
   "outputs": [
    {
     "name": "stdout",
     "output_type": "stream",
     "text": [
      "Insert desired length of the chart:\n",
      "1\n"
     ]
    },
    {
     "data": {
      "image/png": "[encoded data removed]",
      "text/plain": [
       "<matplotlib.figure.Figure at 0x23f9827a710>"
      ]
     },
     "metadata": {},
     "output_type": "display_data"
    }
   ],
   "source": [
    "from numpy import *\n",
    "from numpy.random import *\n",
    "import matplotlib.pyplot as plt\n",
    "\n",
    "print('Insert desired length of the chart:')\n",
    "n = int(input())/2\n",
    "x=linspace(-10,10,200)\n",
    "y=x**2\n",
    "plt.plot(x,y)\n",
    "plt.xlim(-n,n)\n",
    "plt.show()"
   ]
  },
  {
   "cell_type": "code",
   "execution_count": 70,
   "metadata": {},
   "outputs": [
    {
     "name": "stdout",
     "output_type": "stream",
     "text": [
      "Insert desired length of the chart:\n",
      "5\n",
      "2.5\n"
     ]
    }
   ],
   "source": []
  },
  {
   "cell_type": "code",
   "execution_count": null,
   "metadata": {},
   "outputs": [],
   "source": []
  }
 ],
 "metadata": {
  "kernelspec": {
   "display_name": "Python 3",
   "language": "python",
   "name": "python3"
  },
  "language_info": {
   "codemirror_mode": {
    "name": "ipython",
    "version": 3
   },
   "file_extension": ".py",
   "mimetype": "text/x-python",
   "name": "python",
   "nbconvert_exporter": "python",
   "pygments_lexer": "ipython3",
   "version": "3.6.2"
  }
 },
 "nbformat": 4,
 "nbformat_minor": 2
}
