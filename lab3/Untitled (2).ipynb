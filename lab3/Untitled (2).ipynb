{
 "cells": [
  {
   "cell_type": "code",
   "execution_count": 26,
   "metadata": {},
   "outputs": [],
   "source": [
    "#lista 3\n",
    "#zad 1\n",
    "from numpy import pi\n",
    "\n",
    "def pole(fig, x, y=1):\n",
    "    \n",
    "    switchFig=True\n",
    "    swX=True\n",
    "    swY=True\n",
    "    while (swX==True):\n",
    "        try:\n",
    "            x = float(x)\n",
    "            if x<0:\n",
    "                x=input(\"invalid X, try again: \")\n",
    "            else:\n",
    "                swX=False\n",
    "        except ValueError:\n",
    "            x=input(\"invalid X, try again: \")\n",
    "            \n",
    "    while (swY==True):\n",
    "        try:\n",
    "            y=float(y)\n",
    "            if y<0:\n",
    "                y=input(\"invalid Y, try again: \")\n",
    "            else:\n",
    "                swY=False\n",
    "        except ValueError:\n",
    "            y=input(\"invalid y, try again: \")\n",
    "\n",
    "    while (switchFig==True):\n",
    "        if (fig==\"circle\"):\n",
    "            z=pi*x**2\n",
    "            switchFig=False\n",
    "        elif (fig==\"rectangle\"):\n",
    "            z=x*y\n",
    "            switchFig=False\n",
    "        elif (fig==\"triangle\"):\n",
    "            z=x*y*0.5\n",
    "            switchFig=False\n",
    "        elif (fig==\"rhombus\"):\n",
    "            z=x*y*0.5\n",
    "            switchFig=False\n",
    "        else:\n",
    "            fig=input(\"invalid input, try again: \")\n",
    "            fig=fig.lower()\n",
    "            switchFig=True\n",
    "            \n",
    "    return z"
   ]
  },
  {
   "cell_type": "code",
   "execution_count": 27,
   "metadata": {},
   "outputs": [
    {
     "name": "stdout",
     "output_type": "stream",
     "text": [
      "Podaj typ figury: CIRCle\n",
      "Podaj x: 1\n",
      "Podaj y: 1\n",
      "3.141592653589793\n"
     ]
    }
   ],
   "source": [
    "wejscie=input(\"Podaj typ figury: \")\n",
    "wejscie=wejscie.lower()\n",
    "x=input(\"Podaj x: \")\n",
    "y=input(\"Podaj y: \")\n",
    "z=pole(wejscie,x,y)\n",
    "print(z)"
   ]
  },
  {
   "cell_type": "code",
   "execution_count": 28,
   "metadata": {},
   "outputs": [],
   "source": [
    "import sys\n",
    "def porownaj(arr1,arr2):\n",
    "\n",
    "    try: \n",
    "        l1=len(arr1)\n",
    "        l2=len(arr2)\n",
    "        if(l1 and l2 ==2):\n",
    "            z1=pole(arr1[0],arr1[1])\n",
    "            z2=pole(arr2[0],arr2[1])\n",
    "        elif (l1==2):\n",
    "            z1=pole(arr1[0],arr1[1])\n",
    "        elif(l2==2):\n",
    "            z2=pole(arr2[0],arr2[1])\n",
    "        elif(l1 or l2 !=3):\n",
    "            return(\"Invalid ammount of args, try again\")\n",
    "        else:\n",
    "            z1=pole(arr1[0],arr1[1],arr1[2])\n",
    "            z2=pole(arr2[0],arr2[1],arr2[2])\n",
    "    except TypeError:\n",
    "        print(\"Wrong input, try again\")\n",
    "        \n",
    "    if z1==z2:\n",
    "        return(\"pola sa równe, wynoszace: \"+str(z1))\n",
    "    elif z1>z2:\n",
    "        return(\"pole 1 figury jest wieksze\")\n",
    "    elif z1<z2:\n",
    "        return(\"pole 2 figury jest wieksze\")\n",
    "    else:\n",
    "        return(\"oops, I did it again!\")"
   ]
  },
  {
   "cell_type": "code",
   "execution_count": 29,
   "metadata": {},
   "outputs": [
    {
     "name": "stdout",
     "output_type": "stream",
     "text": [
      "2\n"
     ]
    },
    {
     "data": {
      "text/plain": [
       "'pole 1 figury jest wieksze'"
      ]
     },
     "execution_count": 29,
     "metadata": {},
     "output_type": "execute_result"
    }
   ],
   "source": [
    "arr1input=['circle',1]\n",
    "\n",
    "arr2input=['rhombus',2]\n",
    "print(len(arr1input))\n",
    "porownaj(arr1input,arr2input)"
   ]
  },
  {
   "cell_type": "code",
   "execution_count": 49,
   "metadata": {},
   "outputs": [
    {
     "data": {
      "text/plain": [
       "3.141592653589793"
      ]
     },
     "execution_count": 49,
     "metadata": {},
     "output_type": "execute_result"
    }
   ],
   "source": [
    "pole(\"circle\",1)"
   ]
  },
  {
   "cell_type": "code",
   "execution_count": 9,
   "metadata": {},
   "outputs": [
    {
     "data": {
      "text/plain": [
       "'circle'"
      ]
     },
     "execution_count": 9,
     "metadata": {},
     "output_type": "execute_result"
    }
   ],
   "source": [
    "\"Circle\".lower()"
   ]
  },
  {
   "cell_type": "code",
   "execution_count": null,
   "metadata": {},
   "outputs": [],
   "source": []
  }
 ],
 "metadata": {
  "kernelspec": {
   "display_name": "Python 3",
   "language": "python",
   "name": "python3"
  },
  "language_info": {
   "codemirror_mode": {
    "name": "ipython",
    "version": 3
   },
   "file_extension": ".py",
   "mimetype": "text/x-python",
   "name": "python",
   "nbconvert_exporter": "python",
   "pygments_lexer": "ipython3",
   "version": "3.7.1"
  }
 },
 "nbformat": 4,
 "nbformat_minor": 2
}
