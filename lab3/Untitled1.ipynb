{
 "cells": [
  {
   "cell_type": "code",
   "execution_count": 18,
   "metadata": {},
   "outputs": [],
   "source": [
    "#lista 3\n",
    "#zad 1\n",
    "from numpy import pi\n",
    "def pole(fig, x, y):\n",
    "    switchFig=True\n",
    "    swX=True\n",
    "    swY=True\n",
    "    while (swX==True):\n",
    "        try:\n",
    "            x = float(x)\n",
    "            swX=False\n",
    "        except ValueError:\n",
    "            x=input(\"invalid X, try again: \")\n",
    "            \n",
    "    while (swY==True):\n",
    "        try:\n",
    "            y = float(y)\n",
    "            swX=False\n",
    "        except ValueError:\n",
    "            x=input(\"invalid y, try again: \")\n",
    "\n",
    "    while (switchFig==True):\n",
    "        if (fig==\"circle\" or \"Circle\" or \"CIRCLE\"):\n",
    "            z=pi*x**2\n",
    "            switchFig=False\n",
    "        elif (fig==\"rectangle\" or \"Rectangle\" or \"RECTANGLE\"):\n",
    "            z=x*y\n",
    "            switchFig=False\n",
    "        elif (fig==\"triangle\" or \"Triangle\" or \"TRIANGLE\"):\n",
    "            z=x*y*0.5\n",
    "            switchFig=False\n",
    "        elif (fig==\"rhombus\" or \"Rhombus\" or \"RHOMBUS\"):\n",
    "            z=x*y*0.5\n",
    "            switchFig=False\n",
    "        else:\n",
    "            fig=input(\"invalid input, try again: \")\n",
    "            switchFig=True\n",
    "        return z"
   ]
  },
  {
   "cell_type": "code",
   "execution_count": 20,
   "metadata": {},
   "outputs": [
    {
     "name": "stdout",
     "output_type": "stream",
     "text": [
      "Podaj typ figury: circle\n",
      "Podaj x: 1\n",
      "Podaj y: 1\n",
      "3.141592653589793\n"
     ]
    }
   ],
   "source": [
    "wejscie=input(\"Podaj typ figury: \")\n",
    "x=input(\"Podaj x: \")\n",
    "y=input(\"Podaj y: \")\n",
    "z=pole(wejscie,x,y)\n",
    "print(z)"
   ]
  },
  {
   "cell_type": "code",
   "execution_count": 15,
   "metadata": {},
   "outputs": [
    {
     "ename": "TypeError",
     "evalue": "pole() missing 2 required positional arguments: 'x' and 'y'",
     "output_type": "error",
     "traceback": [
      "\u001b[1;31m---------------------------------------------------------------------------\u001b[0m",
      "\u001b[1;31mTypeError\u001b[0m                                 Traceback (most recent call last)",
      "\u001b[1;32m<ipython-input-15-9b13948678da>\u001b[0m in \u001b[0;36m<module>\u001b[1;34m\u001b[0m\n\u001b[1;32m----> 1\u001b[1;33m \u001b[0mpole\u001b[0m\u001b[1;33m(\u001b[0m\u001b[0mwejscie\u001b[0m\u001b[1;33m)\u001b[0m\u001b[1;33m\u001b[0m\u001b[1;33m\u001b[0m\u001b[0m\n\u001b[0m",
      "\u001b[1;31mTypeError\u001b[0m: pole() missing 2 required positional arguments: 'x' and 'y'"
     ]
    }
   ],
   "source": [
    "pole(wejscie)"
   ]
  },
  {
   "cell_type": "code",
   "execution_count": null,
   "metadata": {},
   "outputs": [],
   "source": []
  }
 ],
 "metadata": {
  "kernelspec": {
   "display_name": "Python 3",
   "language": "python",
   "name": "python3"
  },
  "language_info": {
   "codemirror_mode": {
    "name": "ipython",
    "version": 3
   },
   "file_extension": ".py",
   "mimetype": "text/x-python",
   "name": "python",
   "nbconvert_exporter": "python",
   "pygments_lexer": "ipython3",
   "version": "3.7.1"
  }
 },
 "nbformat": 4,
 "nbformat_minor": 2
}
